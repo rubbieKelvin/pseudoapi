{
 "cells": [
  {
   "cell_type": "code",
   "execution_count": 2,
   "metadata": {},
   "outputs": [],
   "source": [
    "import json\n",
    "import requests\n",
    "\n",
    "BASEURL = \"http://localhost:8000\""
   ]
  },
  {
   "cell_type": "code",
   "execution_count": 5,
   "metadata": {},
   "outputs": [],
   "source": [
    "def createapi(method:str, request:dict, response:dict):\n",
    "    response = json.dumps(response)\n",
    "    request = json.dumps(request)\n",
    "    \n",
    "    req = requests.post(f\"{BASEURL}/apis/\", dict(\n",
    "        method=method,\n",
    "        body_response=response,\n",
    "        body_request=request\n",
    "    ))\n",
    "    \n",
    "    return req.json()"
   ]
  },
  {
   "cell_type": "code",
   "execution_count": 15,
   "metadata": {},
   "outputs": [
    {
     "name": "stdout",
     "output_type": "stream",
     "text": [
      "{'id': 15, 'method': 'post', 'route': 'MTU=', 'body_request': '{\"name\": \"::str\"}', 'body_response': '{\"to\": \"{%name}\", \"msg\": \"hello {%name}, check out your lucky number\", \"luckynumber\": \"$randomNumber100\"}', 'date_created': '2020-07-30T16:26:02.641776Z'}\n"
     ]
    }
   ],
   "source": [
    "req = createapi(\n",
    "    \"post\",\n",
    "    request=dict(\n",
    "        name=\"::str\"\n",
    "    ),\n",
    "    response=dict(\n",
    "        to=\"{%name}\",\n",
    "        msg=\"hello {%name}, check out your lucky number\",\n",
    "        luckynumber=\"$randomNumber100\"\n",
    "    )\n",
    ")\n",
    "\n",
    "print(req)"
   ]
  },
  {
   "cell_type": "code",
   "execution_count": 7,
   "metadata": {},
   "outputs": [],
   "source": [
    "def callapi(caller, route:str, data:dict):\n",
    "    req = caller(f\"{BASEURL}/api/{route}/\", data=data)\n",
    "    return req "
   ]
  },
  {
   "cell_type": "code",
   "execution_count": 18,
   "metadata": {},
   "outputs": [],
   "source": [
    "req = callapi(requests.post, route=\"MTU=\", data=dict(name=\"rubbie\"))"
   ]
  },
  {
   "cell_type": "code",
   "execution_count": 19,
   "metadata": {},
   "outputs": [
    {
     "data": {
      "text/plain": [
       "'{\"to\":\"rubbie\",\"msg\":\"hello rubbie, check out your lucky number\",\"luckynumber\":89}'"
      ]
     },
     "execution_count": 19,
     "metadata": {},
     "output_type": "execute_result"
    }
   ],
   "source": [
    "req.text"
   ]
  }
 ],
 "metadata": {
  "kernelspec": {
   "display_name": "Python 3",
   "language": "python",
   "name": "python3"
  },
  "language_info": {
   "codemirror_mode": {
    "name": "ipython",
    "version": 3
   },
   "file_extension": ".py",
   "mimetype": "text/x-python",
   "name": "python",
   "nbconvert_exporter": "python",
   "pygments_lexer": "ipython3",
   "version": "3.8.3"
  }
 },
 "nbformat": 4,
 "nbformat_minor": 4
}
